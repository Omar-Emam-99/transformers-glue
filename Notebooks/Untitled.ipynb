{
 "cells": [
  {
   "cell_type": "code",
   "execution_count": 35,
   "id": "31fc515b-ca90-468d-99c1-cbe6d05b6733",
   "metadata": {},
   "outputs": [],
   "source": [
    "import datasets\n",
    "import pandas as pd\n"
   ]
  },
  {
   "cell_type": "code",
   "execution_count": 17,
   "id": "ec8b9087-8ea5-44f8-a004-0bf41e2604bd",
   "metadata": {},
   "outputs": [
    {
     "name": "stderr",
     "output_type": "stream",
     "text": [
      "Using custom data configuration default-50a16d5a842adfbf\n",
      "Reusing dataset json (/root/.cache/huggingface/datasets/json/default-50a16d5a842adfbf/0.0.0/a3e658c4731e59120d44081ac10bf85dc7e1388126b92338344ce9661907f253)\n"
     ]
    },
    {
     "data": {
      "application/vnd.jupyter.widget-view+json": {
       "model_id": "fad68ed38d51424b8448f531fe18d5f4",
       "version_major": 2,
       "version_minor": 0
      },
      "text/plain": [
       "  0%|          | 0/3 [00:00<?, ?it/s]"
      ]
     },
     "metadata": {},
     "output_type": "display_data"
    }
   ],
   "source": [
    "data = dict()\n",
    "for i in [\"train\" ,\"dev\",\"test\"] :\n",
    "    data[i] = f\"../data/tokenized_data/{i}.json\"\n",
    "    data = "
   ]
  },
  {
   "cell_type": "code",
   "execution_count": null,
   "id": "f2fb8f43-e43a-48c7-af49-bfbe14e04fe0",
   "metadata": {},
   "outputs": [],
   "source": [
    "for i in [\"train\" ,\"dev\",\"test\"] :\n",
    "    file = f\"../data/tokenized_data/{i}.json\"\n",
    "    "
   ]
  },
  {
   "cell_type": "code",
   "execution_count": null,
   "id": "93fdf54c-5bec-403a-b279-42f17fbf778a",
   "metadata": {},
   "outputs": [],
   "source": []
  },
  {
   "cell_type": "code",
   "execution_count": null,
   "id": "d62a36cb-92ea-4dbd-82c5-0c329bf73528",
   "metadata": {},
   "outputs": [],
   "source": []
  },
  {
   "cell_type": "code",
   "execution_count": null,
   "id": "cd7a7d01-33da-4818-bbf0-87465595e5d5",
   "metadata": {},
   "outputs": [],
   "source": []
  }
 ],
 "metadata": {
  "kernelspec": {
   "display_name": "Python 3 (ipykernel)",
   "language": "python",
   "name": "python3"
  },
  "language_info": {
   "codemirror_mode": {
    "name": "ipython",
    "version": 3
   },
   "file_extension": ".py",
   "mimetype": "text/x-python",
   "name": "python",
   "nbconvert_exporter": "python",
   "pygments_lexer": "ipython3",
   "version": "3.9.16"
  }
 },
 "nbformat": 4,
 "nbformat_minor": 5
}
